{
 "cells": [
  {
   "cell_type": "code",
   "execution_count": 1,
   "metadata": {},
   "outputs": [],
   "source": [
    "def position_choice():\n",
    "    choice='wrong'\n",
    "    acceptable_range=['0','1','2']\n",
    "    while choice not in acceptable_range:\n",
    "        choice=input('enter a no (0,1,2): ')\n",
    "        if choice not in acceptable_range:\n",
    "            print('please input a valid no')\n",
    "        else:\n",
    "            acceptable_range=['0','1','2']\n",
    "            replace=input('input anything to replace:  ')\n",
    "            acceptable_range[int(choice)]=replace\n",
    "            print(acceptable_range)\n",
    "            \n",
    "            further=input('typ N TO EXIT:  ' )\n",
    "            if further=='N':\n",
    "                break\n",
    "            else:\n",
    "                pass\n",
    "            \n",
    "            \n",
    "        \n",
    "    \n",
    "        \n",
    "        "
   ]
  },
  {
   "cell_type": "markdown",
   "metadata": {},
   "source": []
  },
  {
   "cell_type": "markdown",
   "metadata": {},
   "source": []
  },
  {
   "cell_type": "markdown",
   "metadata": {},
   "source": [
    "\n",
    "    "
   ]
  },
  {
   "cell_type": "code",
   "execution_count": null,
   "metadata": {},
   "outputs": [
    {
     "name": "stdout",
     "output_type": "stream",
     "text": [
      "enter a no (0,1,2): 5\n",
      "please input a valid no\n",
      "enter a no (0,1,2): k\n",
      "please input a valid no\n",
      "enter a no (0,1,2): 2\n",
      "input anything to replace:  7\n",
      "['0', '1', '7']\n",
      "typ N TO EXIT:  y\n",
      "enter a no (0,1,2): 2\n",
      "please input a valid no\n"
     ]
    }
   ],
   "source": [
    "position_choice()"
   ]
  },
  {
   "cell_type": "code",
   "execution_count": 5,
   "metadata": {},
   "outputs": [],
   "source": [
    "game_list=['0','1','2']"
   ]
  },
  {
   "cell_type": "code",
   "execution_count": 3,
   "metadata": {},
   "outputs": [],
   "source": [
    "def display_game(game_list):\n",
    "    print('here is the current list')\n",
    "    print(game_list)\n",
    "    \n"
   ]
  },
  {
   "cell_type": "code",
   "execution_count": null,
   "metadata": {},
   "outputs": [],
   "source": []
  },
  {
   "cell_type": "code",
   "execution_count": 4,
   "metadata": {},
   "outputs": [],
   "source": [
    "def position_choice():\n",
    "    choice='wrong'\n",
    "    while choice not in ['0','1','2']:\n",
    "        choice=input('a no from 0,1,2:')\n",
    "        if choice not in ['0','1','2']:\n",
    "            print('sorry input a valid no.')\n",
    "    return int(choice)"
   ]
  },
  {
   "cell_type": "code",
   "execution_count": 5,
   "metadata": {},
   "outputs": [],
   "source": [
    "def replacement_choice(game_list,position):\n",
    "    user_placement=input('choose a no. to replace:  ')\n",
    "    game_list[position]=user_placement\n",
    "    return game_list"
   ]
  },
  {
   "cell_type": "raw",
   "metadata": {},
   "source": []
  },
  {
   "cell_type": "code",
   "execution_count": 6,
   "metadata": {},
   "outputs": [],
   "source": [
    "def gameon_choice():\n",
    "    choice='wrong'\n",
    "    while choice not in ['Y','N']:\n",
    "        choice=input('PRESS Y TO KEEP PLAYING ,N TO EXIT:  ')\n",
    "        if choice not in ['Y','N']:\n",
    "            print('sorry input a valid OPTION.')\n",
    "    if choice=='Y':\n",
    "        return True\n",
    "    else:\n",
    "        return False\n",
    "    return int(choice)"
   ]
  },
  {
   "cell_type": "code",
   "execution_count": 7,
   "metadata": {},
   "outputs": [
    {
     "name": "stdout",
     "output_type": "stream",
     "text": [
      "here is the current list\n",
      "[0, 1, 2]\n",
      "a no from 0,1,2:7\n",
      "sorry input a valid no.\n",
      "a no from 0,1,2:t\n",
      "sorry input a valid no.\n",
      "a no from 0,1,2:2\n",
      "choose a no. to replace:  4\n",
      "here is the current list\n",
      "[0, 1, '4']\n",
      "PRESS Y TO KEEP PLAYING ,N TO EXIT:  y\n",
      "sorry input a valid OPTION.\n",
      "PRESS Y TO KEEP PLAYING ,N TO EXIT:  Y\n",
      "here is the current list\n",
      "[0, 1, '4']\n",
      "a no from 0,1,2:2\n",
      "choose a no. to replace:  8\n",
      "here is the current list\n",
      "[0, 1, '8']\n",
      "PRESS Y TO KEEP PLAYING ,N TO EXIT:  N\n"
     ]
    }
   ],
   "source": [
    "game_on=True\n",
    "game_list=[0,1,2]\n",
    "while game_on:\n",
    "    display_game(game_list)\n",
    "    position=position_choice()\n",
    "    game_list=replacement_choice(game_list,position)\n",
    "    display_game(game_list)\n",
    "    game_on=gameon_choice()"
   ]
  },
  {
   "cell_type": "code",
   "execution_count": null,
   "metadata": {},
   "outputs": [],
   "source": []
  }
 ],
 "metadata": {
  "kernelspec": {
   "display_name": "Python 3",
   "language": "python",
   "name": "python3"
  },
  "language_info": {
   "codemirror_mode": {
    "name": "ipython",
    "version": 3
   },
   "file_extension": ".py",
   "mimetype": "text/x-python",
   "name": "python",
   "nbconvert_exporter": "python",
   "pygments_lexer": "ipython3",
   "version": "3.8.3"
  }
 },
 "nbformat": 4,
 "nbformat_minor": 4
}
